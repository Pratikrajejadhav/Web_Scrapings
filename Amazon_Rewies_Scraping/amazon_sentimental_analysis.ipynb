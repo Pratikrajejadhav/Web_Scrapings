{
 "cells": [
  {
   "cell_type": "code",
   "execution_count": 3,
   "metadata": {},
   "outputs": [
    {
     "name": "stdout",
     "output_type": "stream",
     "text": [
      "Overwriting sentiment_analysis.py\n"
     ]
    }
   ],
   "source": [
    "%%writefile sentiment_analysis.py\n",
    "# Importing necessary modules\n",
    "import streamlit as st \n",
    "import google.generativeai as genai\n",
    "import google.ai.generativelanguage as glm\n",
    "import pandas as pd\n",
    "\n",
    "genai.configure(api_key=\"<your api key>\")\n",
    "\n",
    "if __name__=='__main__':\n",
    "\n",
    "    st.header(\"Sentiment Analysis of Reviews\")\n",
    "    data = st.sidebar.file_uploader(\"Upload Data File Here\", type=['csv'])\n",
    "\n",
    "    if data is not None:\n",
    "        data_file  = pd.read_csv(data)\n",
    "\n",
    "        sentiment = []\n",
    "        for reviews in data_file['review_text']:\n",
    "             \n",
    "             # model selection\n",
    "             model = genai.GenerativeModel('gemini-pro')\n",
    "\n",
    "             prompt = \"\"\" Give the Sentiment analysis of given review only in two words either ***POSITIVE** 😀😀  or **NEGATIVE** ☹️☹️ \"\"\"\n",
    "\n",
    "             response = model.generate_content([prompt, reviews])\n",
    "            #  st.write(reviews)\n",
    "            #  st.write(response.text)\n",
    "             sentiment.append(response.text)\n",
    "            #  st.write(\"=====================================================================================\")\n",
    "        data_file['Sentiment'] = sentiment \n",
    "        st.write(data_file)\n",
    "\n",
    "\n",
    "        "
   ]
  },
  {
   "cell_type": "code",
   "execution_count": 4,
   "metadata": {},
   "outputs": [
    {
     "name": "stdout",
     "output_type": "stream",
     "text": [
      "Overwriting test_senti.py\n"
     ]
    }
   ],
   "source": []
  },
  {
   "cell_type": "code",
   "execution_count": null,
   "metadata": {},
   "outputs": [],
   "source": []
  }
 ],
 "metadata": {
  "kernelspec": {
   "display_name": "base",
   "language": "python",
   "name": "python3"
  },
  "language_info": {
   "codemirror_mode": {
    "name": "ipython",
    "version": 3
   },
   "file_extension": ".py",
   "mimetype": "text/x-python",
   "name": "python",
   "nbconvert_exporter": "python",
   "pygments_lexer": "ipython3",
   "version": "3.11.5"
  }
 },
 "nbformat": 4,
 "nbformat_minor": 2
}
