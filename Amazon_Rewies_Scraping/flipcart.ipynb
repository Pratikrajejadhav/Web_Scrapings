{
 "cells": [
  {
   "cell_type": "code",
   "execution_count": 6,
   "metadata": {},
   "outputs": [
    {
     "name": "stdout",
     "output_type": "stream",
     "text": [
      "Overwriting flipcart.py\n"
     ]
    }
   ],
   "source": [
    "%%writefile flipcart.py\n",
    "import streamlit as st\n",
    "from selenium import webdriver\n",
    "from selenium.webdriver.common.by import By\n",
    "import pandas as pd\n",
    "import re\n",
    "from selenium.common.exceptions import NoSuchElementException \n",
    "\n",
    "# Function to scrape reviews from Flipkart\n",
    "def scrape_flipkart_reviews(url, max_page=5):\n",
    "    driver = webdriver.Chrome()\n",
    "    reviews = []\n",
    "\n",
    "    for page in range(1, max_page + 1):\n",
    "        print(\"Page:\", page)\n",
    "        page_url = f'{url}{page}'\n",
    "        driver.get(page_url)\n",
    "\n",
    "        review_elements = driver.find_elements(By.XPATH, \"//div[@class='col EPCmJX Ma1fCG']\")\n",
    "        if review_elements:\n",
    "            for review in review_elements:\n",
    "                review_data_dict = {}\n",
    "                try:\n",
    "                    # review_data_dict['reviewer_name'] = review.find_element(By.XPATH, \".//div[@class='_2NsDsF AwS1CA']\").text\n",
    "                    # review_data_dict['rating'] = review.find_element(By.XPATH, \".//div[@class='XQDdHH Ga3i8K']\").text\n",
    "                    # review_data_dict['review_text'] = review.find_element(By.XPATH, \".//div[@class='ZmyHeo']\").text\n",
    "\n",
    "                    reviewer_name_xpath = \"//div[@class='_2aFisS']/div[@class='_2aFisS']/div[@class='_2aFisS']/div[@class='_27M-vq']//div[@class='_2wzgFH']\"\n",
    "                    rating_xpath = \"//div[@class='_2aFisS']/div[@class='_2aFisS']/div[@class='_2aFisS']/div[@class='_27M-vq']//div[@class='XQDdHH Ga3i8K']\"\n",
    "                    review_text_xpath = \"//div[@class='_2aFisS']/div[@class='_2aFisS']/div[@class='_2aFisS']/div[@class='_27M-vq']//div[@class='t-ZTKy']\"\n",
    "\n",
    "                    reviews.append(review_data_dict)\n",
    "                except NoSuchElementException:\n",
    "                    print(\"Some elements not found on page\", page)\n",
    "        else:\n",
    "            print(f'NO Reviews Found on Page {page}')\n",
    "            break\n",
    "\n",
    "    driver.close()\n",
    "\n",
    "    return reviews\n",
    "\n",
    "if __name__=='__main__':\n",
    "\n",
    "    st.header(\"Sentiment Analysis of Reviews\")\n",
    "\n",
    "    full_link = st.sidebar.text_input(\"Enter the Flipkart product review link here\")\n",
    "    max_page = st.sidebar.number_input(\"Enter Max Pages\", min_value=1, step=1)\n",
    "    btn =  st.sidebar.button(\"Start\")\n",
    "\n",
    "    if btn:\n",
    "        pattern = r'(https://www.flipkart.com/.+)'\n",
    "        match = re.search(pattern, full_link)\n",
    "\n",
    "        if match:\n",
    "            extracted_link = match.group(1)\n",
    "            print(extracted_link)\n",
    "            reviews = scrape_flipkart_reviews(extracted_link, max_page)\n",
    "        else:\n",
    "            print(\"Invalid Flipkart product review link.\")\n",
    "\n",
    "        data_file = pd.DataFrame(reviews)\n",
    "        # Perform sentiment analysis and further processing...\n",
    "        st.write(data_file)\n"
   ]
  },
  {
   "cell_type": "code",
   "execution_count": null,
   "metadata": {},
   "outputs": [],
   "source": []
  }
 ],
 "metadata": {
  "kernelspec": {
   "display_name": "base",
   "language": "python",
   "name": "python3"
  },
  "language_info": {
   "codemirror_mode": {
    "name": "ipython",
    "version": 3
   },
   "file_extension": ".py",
   "mimetype": "text/x-python",
   "name": "python",
   "nbconvert_exporter": "python",
   "pygments_lexer": "ipython3",
   "version": "3.11.5"
  }
 },
 "nbformat": 4,
 "nbformat_minor": 2
}
