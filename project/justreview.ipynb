{
 "cells": [
  {
   "cell_type": "code",
   "execution_count": 5,
   "metadata": {},
   "outputs": [],
   "source": [
    "import requests\n",
    "from bs4 import BeautifulSoup\n",
    "\n",
    "# Hypothetical API endpoint or URL for scraping (replace with actual logic)\n",
    "url = \"https://www.google.com/search?q=continental+hospitals\"\n",
    "\n",
    "response = requests.get(url)\n",
    "soup = BeautifulSoup(response.content, \"html.parser\")\n",
    "\n",
    "reviews = []\n",
    "for review_element in soup.find_all(\"div\", class_=\"review-container\"):  # Hypothetical class\n",
    "    name = review_element.find(\"div\", class_=\"TSUbDb\").getText().strip()  # Hypothetical class\n",
    "    time = review_element.find(\"span\", class_=\"dehysf lTi8oc\").getText().strip()  # Hypothetical class\n",
    "    review_text = review_element.find(\"span\", class_=\"review-full-text\").getText().strip()  # Hypothetical class\n",
    "    reviews.append((name, time, review_text))\n",
    "    print(reviews)\n",
    "\n",
    "# Process the reviews (e.g., create DataFrame, analyze sentiment)\n"
   ]
  },
  {
   "cell_type": "code",
   "execution_count": 6,
   "metadata": {},
   "outputs": [
    {
     "data": {
      "text/plain": [
       "[]"
      ]
     },
     "execution_count": 6,
     "metadata": {},
     "output_type": "execute_result"
    }
   ],
   "source": [
    "reviews"
   ]
  },
  {
   "cell_type": "code",
   "execution_count": 20,
   "metadata": {},
   "outputs": [
    {
     "ename": "UnboundLocalError",
     "evalue": "cannot access local variable 'time' where it is not associated with a value",
     "output_type": "error",
     "traceback": [
      "\u001b[1;31m---------------------------------------------------------------------------\u001b[0m",
      "\u001b[1;31mUnboundLocalError\u001b[0m                         Traceback (most recent call last)",
      "Cell \u001b[1;32mIn[20], line 48\u001b[0m\n\u001b[0;32m     45\u001b[0m     \u001b[38;5;28;01mreturn\u001b[39;00m reviews1\n\u001b[0;32m     47\u001b[0m \u001b[38;5;66;03m# Call the function (replace with actual URL if scraping is necessary)\u001b[39;00m\n\u001b[1;32m---> 48\u001b[0m scraped_reviews \u001b[38;5;241m=\u001b[39m scrape_google_reviews(hospital_url)\n\u001b[0;32m     49\u001b[0m \u001b[38;5;28mprint\u001b[39m(scraped_reviews)\n",
      "Cell \u001b[1;32mIn[20], line 23\u001b[0m, in \u001b[0;36mscrape_google_reviews\u001b[1;34m(url)\u001b[0m\n\u001b[0;32m     21\u001b[0m \u001b[38;5;28;01mwhile\u001b[39;00m \u001b[38;5;28;01mTrue\u001b[39;00m:\n\u001b[0;32m     22\u001b[0m     driver\u001b[38;5;241m.\u001b[39mexecute_script(\u001b[38;5;124m\"\u001b[39m\u001b[38;5;124mwindow.scrollTo(0, document.body.scrollHeight);\u001b[39m\u001b[38;5;124m\"\u001b[39m)\n\u001b[1;32m---> 23\u001b[0m     time\u001b[38;5;241m.\u001b[39msleep(\u001b[38;5;241m1\u001b[39m)  \u001b[38;5;66;03m# Adjust delay as needed\u001b[39;00m\n\u001b[0;32m     25\u001b[0m     new_height \u001b[38;5;241m=\u001b[39m driver\u001b[38;5;241m.\u001b[39mexecute_script(\u001b[38;5;124m\"\u001b[39m\u001b[38;5;124mreturn document.body.scrollHeight\u001b[39m\u001b[38;5;124m\"\u001b[39m)\n\u001b[0;32m     26\u001b[0m     \u001b[38;5;28;01mif\u001b[39;00m new_height \u001b[38;5;241m==\u001b[39m last_height:\n",
      "\u001b[1;31mUnboundLocalError\u001b[0m: cannot access local variable 'time' where it is not associated with a value"
     ]
    }
   ],
   "source": [
    "from selenium import webdriver\n",
    "from selenium.webdriver.common.by import By\n",
    "from selenium.webdriver.support.ui import WebDriverWait\n",
    "from selenium.webdriver.support import expected_conditions as EC\n",
    "\n",
    "# Replace with the actual hospital website URL (assuming it has reviews)\n",
    "hospital_url = \"https://www.google.com/search?q=continental+hospitals\"\n",
    "\n",
    "def scrape_google_reviews(url):\n",
    "    # **Warning:** This code is for illustrative purposes only and may not work due to website structure changes or ToS violations.\n",
    "\n",
    "    options = webdriver.ChromeOptions()\n",
    "    options.add_argument(\"--headless\")  # Run Chrome in headless mode (optional)\n",
    "\n",
    "    driver = webdriver.Chrome(options=options)\n",
    "    driver.get(url)\n",
    "\n",
    "    # Simulate scrolling to load more reviews (replace with platform-specific logic)\n",
    "    last_height = driver.execute_script(\"return document.body.scrollHeight\")\n",
    "\n",
    "    while True:\n",
    "        driver.execute_script(\"window.scrollTo(0, document.body.scrollHeight);\")\n",
    "        time.sleep(1)  # Adjust delay as needed\n",
    "\n",
    "        new_height = driver.execute_script(\"return document.body.scrollHeight\")\n",
    "        if new_height == last_height:\n",
    "            break\n",
    "        last_height = new_height\n",
    "\n",
    "    reviews1 = []\n",
    "    review_elements = driver.find_elements(By.CLASS_NAME, \"review-container\")  # Replace with actual class name\n",
    "\n",
    "    for review1 in review_elements:\n",
    "        name = review1.find_element(By.CLASS_NAME, \"TSUbDb\").text  # Replace with actual class names\n",
    "        text = review1.find_element(By.CLASS_NAME, \"review-full-text\").text\n",
    "        time = review1.find_element(By.CLASS_NAME, \"dehysf lTi8oc\").text\n",
    "\n",
    "        reviews1.append({\n",
    "            \"name\": name,  # May not be available on Google reviews\n",
    "            \"text\": text,\n",
    "            \"time\": time\n",
    "        })\n",
    "\n",
    "    driver.quit()\n",
    "    return reviews1\n",
    "\n",
    "# Call the function (replace with actual URL if scraping is necessary)\n",
    "scraped_reviews = scrape_google_reviews(hospital_url)\n",
    "print(scraped_reviews)\n"
   ]
  },
  {
   "cell_type": "code",
   "execution_count": 22,
   "metadata": {},
   "outputs": [
    {
     "name": "stdout",
     "output_type": "stream",
     "text": [
      "[]\n"
     ]
    }
   ],
   "source": [
    "from selenium import webdriver\n",
    "from selenium.webdriver.common.by import By\n",
    "from selenium.webdriver.support.ui import WebDriverWait\n",
    "from selenium.webdriver.support import expected_conditions as EC\n",
    "import time  # Import the time module\n",
    "\n",
    "# Replace with the actual hospital website URL (assuming it has reviews)\n",
    "hospital_url = \"https://www.google.com/search?q=continental+hospitals\"\n",
    "\n",
    "def scrape_google_reviews(url):\n",
    "    # **Warning:** This code is for illustrative purposes only and may not work due to website structure changes or ToS violations.\n",
    "\n",
    "    options = webdriver.ChromeOptions()\n",
    "    options.add_argument(\"--headless\")  # Run Chrome in headless mode (optional)\n",
    "\n",
    "    driver = webdriver.Chrome(options=options)\n",
    "    driver.get(url)\n",
    "\n",
    "    # Simulate scrolling to load more reviews (replace with platform-specific logic)\n",
    "    last_height = driver.execute_script(\"return document.body.scrollHeight\")\n",
    "\n",
    "    while True:\n",
    "        driver.execute_script(\"window.scrollTo(0, document.body.scrollHeight);\")\n",
    "        time.sleep(1)  # Adjust delay as needed\n",
    "\n",
    "        new_height = driver.execute_script(\"return document.body.scrollHeight\")\n",
    "        if new_height == last_height:\n",
    "            break\n",
    "        last_height = new_height\n",
    "\n",
    "    reviews1 = []\n",
    "    review_elements = driver.find_elements(By.CLASS_NAME, \"review-container\")  # Replace with actual class name\n",
    "\n",
    "    for review1 in review_elements:\n",
    "        name = review1.find_element(By.CLASS_NAME, \"TSUbDb\").text  # Replace with actual class names\n",
    "        text = review1.find_element(By.CLASS_NAME, \"review-full-text\").text\n",
    "        time_of_review = review1.find_element(By.CLASS_NAME, \"dehysf.lTi8oc\").text  # Fixed typo here\n",
    "\n",
    "        reviews1.append({\n",
    "            \"name\": name,  # May not be available on Google reviews\n",
    "            \"text\": text,\n",
    "            \"time\": time_of_review  # Changed variable name to avoid conflict\n",
    "        })\n",
    "\n",
    "    driver.quit()\n",
    "    return reviews1\n",
    "\n",
    "# Call the function (replace with actual URL if scraping is necessary)\n",
    "scraped_reviews = scrape_google_reviews(hospital_url)\n",
    "print(scraped_reviews)\n"
   ]
  },
  {
   "cell_type": "code",
   "execution_count": null,
   "metadata": {},
   "outputs": [],
   "source": []
  }
 ],
 "metadata": {
  "kernelspec": {
   "display_name": "base",
   "language": "python",
   "name": "python3"
  },
  "language_info": {
   "codemirror_mode": {
    "name": "ipython",
    "version": 3
   },
   "file_extension": ".py",
   "mimetype": "text/x-python",
   "name": "python",
   "nbconvert_exporter": "python",
   "pygments_lexer": "ipython3",
   "version": "3.11.5"
  }
 },
 "nbformat": 4,
 "nbformat_minor": 2
}
